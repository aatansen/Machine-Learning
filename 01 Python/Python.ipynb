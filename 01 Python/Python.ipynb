{
 "cells": [
  {
   "cell_type": "markdown",
   "id": "42fe203b",
   "metadata": {},
   "source": [
    "### First Python Code"
   ]
  },
  {
   "cell_type": "code",
   "execution_count": 1,
   "id": "d7014f07",
   "metadata": {
    "scrolled": false
   },
   "outputs": [
    {
     "name": "stdout",
     "output_type": "stream",
     "text": [
      "hello\n"
     ]
    }
   ],
   "source": [
    "print(\"hello\")"
   ]
  },
  {
   "cell_type": "markdown",
   "id": "c060043e",
   "metadata": {},
   "source": [
    "**Take input**"
   ]
  },
  {
   "cell_type": "code",
   "execution_count": 2,
   "id": "876e74b1",
   "metadata": {
    "run_control": {
     "marked": false
    }
   },
   "outputs": [
    {
     "name": "stdout",
     "output_type": "stream",
     "text": [
      "What is your name?tansen\n"
     ]
    },
    {
     "data": {
      "text/plain": [
       "'tansen'"
      ]
     },
     "execution_count": 2,
     "metadata": {},
     "output_type": "execute_result"
    }
   ],
   "source": [
    "input(\"What is your name?\")"
   ]
  },
  {
   "cell_type": "code",
   "execution_count": 3,
   "id": "deb7e2cb",
   "metadata": {},
   "outputs": [
    {
     "name": "stdout",
     "output_type": "stream",
     "text": [
      "What is your name?tansen\n",
      "Hello tansen\n"
     ]
    }
   ],
   "source": [
    "name = input(\"What is your name?\")\n",
    "print(\"Hello \"+name)"
   ]
  },
  {
   "cell_type": "markdown",
   "id": "31d730e0",
   "metadata": {},
   "source": [
    "**Another way to do this (f string)**"
   ]
  },
  {
   "cell_type": "code",
   "execution_count": 4,
   "id": "7ce9b2c3",
   "metadata": {},
   "outputs": [
    {
     "name": "stdout",
     "output_type": "stream",
     "text": [
      "What is your name?tansen\n",
      "Hello tansen\n"
     ]
    }
   ],
   "source": [
    "name = input(\"What is your name?\")\n",
    "print(f\"Hello {name}\")"
   ]
  },
  {
   "cell_type": "markdown",
   "id": "a1594e80",
   "metadata": {},
   "source": [
    "### Data Type : Numbers\n",
    "**int** and **float**"
   ]
  },
  {
   "cell_type": "code",
   "execution_count": 5,
   "id": "f65ade97",
   "metadata": {},
   "outputs": [
    {
     "data": {
      "text/plain": [
       "6"
      ]
     },
     "execution_count": 5,
     "metadata": {},
     "output_type": "execute_result"
    }
   ],
   "source": [
    "2+4"
   ]
  },
  {
   "cell_type": "code",
   "execution_count": 6,
   "id": "fc139816",
   "metadata": {},
   "outputs": [
    {
     "data": {
      "text/plain": [
       "int"
      ]
     },
     "execution_count": 6,
     "metadata": {},
     "output_type": "execute_result"
    }
   ],
   "source": [
    "type(6)"
   ]
  },
  {
   "cell_type": "code",
   "execution_count": 7,
   "id": "b4f8be41",
   "metadata": {},
   "outputs": [
    {
     "data": {
      "text/plain": [
       "10.4"
      ]
     },
     "execution_count": 7,
     "metadata": {},
     "output_type": "execute_result"
    }
   ],
   "source": [
    "1.0+9.4"
   ]
  },
  {
   "cell_type": "code",
   "execution_count": 8,
   "id": "bddefb30",
   "metadata": {},
   "outputs": [
    {
     "data": {
      "text/plain": [
       "float"
      ]
     },
     "execution_count": 8,
     "metadata": {},
     "output_type": "execute_result"
    }
   ],
   "source": [
    "type(10.4)"
   ]
  },
  {
   "cell_type": "markdown",
   "id": "2385f5f6",
   "metadata": {},
   "source": [
    "**power**"
   ]
  },
  {
   "cell_type": "code",
   "execution_count": 9,
   "id": "ec256e1b",
   "metadata": {},
   "outputs": [
    {
     "data": {
      "text/plain": [
       "8"
      ]
     },
     "execution_count": 9,
     "metadata": {},
     "output_type": "execute_result"
    }
   ],
   "source": [
    "2**3"
   ]
  },
  {
   "cell_type": "markdown",
   "id": "6f687add",
   "metadata": {},
   "source": [
    "**Round**"
   ]
  },
  {
   "cell_type": "code",
   "execution_count": 10,
   "id": "84ead37b",
   "metadata": {},
   "outputs": [
    {
     "data": {
      "text/plain": [
       "0"
      ]
     },
     "execution_count": 10,
     "metadata": {},
     "output_type": "execute_result"
    }
   ],
   "source": [
    "2//3"
   ]
  },
  {
   "cell_type": "code",
   "execution_count": 11,
   "id": "10a09f70",
   "metadata": {},
   "outputs": [
    {
     "data": {
      "text/plain": [
       "1"
      ]
     },
     "execution_count": 11,
     "metadata": {},
     "output_type": "execute_result"
    }
   ],
   "source": [
    "5//3"
   ]
  },
  {
   "cell_type": "markdown",
   "id": "e3fee971",
   "metadata": {},
   "source": [
    "**modulo**"
   ]
  },
  {
   "cell_type": "code",
   "execution_count": 12,
   "id": "de781e05",
   "metadata": {},
   "outputs": [
    {
     "data": {
      "text/plain": [
       "1"
      ]
     },
     "execution_count": 12,
     "metadata": {},
     "output_type": "execute_result"
    }
   ],
   "source": [
    "5%4"
   ]
  },
  {
   "cell_type": "markdown",
   "id": "149a696f",
   "metadata": {
    "run_control": {
     "marked": false
    }
   },
   "source": [
    "**Math function**"
   ]
  },
  {
   "cell_type": "code",
   "execution_count": 13,
   "id": "79950ba3",
   "metadata": {},
   "outputs": [
    {
     "data": {
      "text/plain": [
       "3"
      ]
     },
     "execution_count": 13,
     "metadata": {},
     "output_type": "execute_result"
    }
   ],
   "source": [
    "round(2.51)"
   ]
  },
  {
   "cell_type": "code",
   "execution_count": 14,
   "id": "05e3a2f6",
   "metadata": {},
   "outputs": [
    {
     "data": {
      "text/plain": [
       "10"
      ]
     },
     "execution_count": 14,
     "metadata": {},
     "output_type": "execute_result"
    }
   ],
   "source": [
    "abs(-10)"
   ]
  },
  {
   "cell_type": "markdown",
   "id": "bb0f9f45",
   "metadata": {},
   "source": [
    "**Commenting**"
   ]
  },
  {
   "cell_type": "code",
   "execution_count": 17,
   "id": "9d695e6d",
   "metadata": {},
   "outputs": [
    {
     "data": {
      "text/plain": [
       "'Tansen'"
      ]
     },
     "execution_count": 17,
     "metadata": {},
     "output_type": "execute_result"
    }
   ],
   "source": [
    "#print name\n",
    "name=\"Tansen\"\n",
    "name"
   ]
  },
  {
   "cell_type": "markdown",
   "id": "6dce7f62",
   "metadata": {},
   "source": [
    "**operator precedence**"
   ]
  },
  {
   "cell_type": "code",
   "execution_count": 18,
   "id": "2e151821",
   "metadata": {},
   "outputs": [
    {
     "data": {
      "text/plain": [
       "8"
      ]
     },
     "execution_count": 18,
     "metadata": {},
     "output_type": "execute_result"
    }
   ],
   "source": [
    "20-3*4"
   ]
  },
  {
   "cell_type": "code",
   "execution_count": 19,
   "id": "c57628aa",
   "metadata": {},
   "outputs": [
    {
     "data": {
      "text/plain": [
       "68"
      ]
     },
     "execution_count": 19,
     "metadata": {},
     "output_type": "execute_result"
    }
   ],
   "source": [
    "(20-3)*4"
   ]
  },
  {
   "cell_type": "code",
   "execution_count": 20,
   "id": "3e08dc30",
   "metadata": {},
   "outputs": [
    {
     "data": {
      "text/plain": [
       "21"
      ]
     },
     "execution_count": 20,
     "metadata": {},
     "output_type": "execute_result"
    }
   ],
   "source": [
    "((20-3)+2**2)"
   ]
  },
  {
   "cell_type": "markdown",
   "id": "d51de14b",
   "metadata": {},
   "source": [
    "**Variables**"
   ]
  },
  {
   "cell_type": "code",
   "execution_count": 21,
   "id": "435ca704",
   "metadata": {},
   "outputs": [],
   "source": [
    "name = \"Tansen\""
   ]
  },
  {
   "cell_type": "code",
   "execution_count": 22,
   "id": "9ccc8543",
   "metadata": {},
   "outputs": [
    {
     "data": {
      "text/plain": [
       "'Tansen'"
      ]
     },
     "execution_count": 22,
     "metadata": {},
     "output_type": "execute_result"
    }
   ],
   "source": [
    "#multiple assign\n",
    "name1 = name2 = \"Tansen\"\n",
    "name2"
   ]
  },
  {
   "cell_type": "code",
   "execution_count": 23,
   "id": "6468c27e",
   "metadata": {},
   "outputs": [
    {
     "data": {
      "text/plain": [
       "'Tansen'"
      ]
     },
     "execution_count": 23,
     "metadata": {},
     "output_type": "execute_result"
    }
   ],
   "source": [
    "name1"
   ]
  },
  {
   "cell_type": "code",
   "execution_count": 24,
   "id": "3a5c8efb",
   "metadata": {},
   "outputs": [],
   "source": [
    "#multiple values to multiple variables\n",
    "a, b, c = 5, 3.2, 'Hello'"
   ]
  },
  {
   "cell_type": "code",
   "execution_count": 25,
   "id": "b5250836",
   "metadata": {},
   "outputs": [
    {
     "data": {
      "text/plain": [
       "5"
      ]
     },
     "execution_count": 25,
     "metadata": {},
     "output_type": "execute_result"
    }
   ],
   "source": [
    "a"
   ]
  },
  {
   "cell_type": "code",
   "execution_count": 26,
   "id": "bdec6dfa",
   "metadata": {},
   "outputs": [
    {
     "data": {
      "text/plain": [
       "3.2"
      ]
     },
     "execution_count": 26,
     "metadata": {},
     "output_type": "execute_result"
    }
   ],
   "source": [
    "b"
   ]
  },
  {
   "cell_type": "code",
   "execution_count": 27,
   "id": "efb8b049",
   "metadata": {},
   "outputs": [
    {
     "data": {
      "text/plain": [
       "'Hello'"
      ]
     },
     "execution_count": 27,
     "metadata": {},
     "output_type": "execute_result"
    }
   ],
   "source": [
    "c"
   ]
  },
  {
   "cell_type": "markdown",
   "id": "5db5c973",
   "metadata": {},
   "source": [
    "### Augmented Assignment Variable"
   ]
  },
  {
   "cell_type": "code",
   "execution_count": 28,
   "id": "8a010196",
   "metadata": {},
   "outputs": [
    {
     "data": {
      "text/plain": [
       "10"
      ]
     },
     "execution_count": 28,
     "metadata": {},
     "output_type": "execute_result"
    }
   ],
   "source": [
    "some_value = 5\n",
    "some_value = some_value+5\n",
    "some_value"
   ]
  },
  {
   "cell_type": "code",
   "execution_count": 29,
   "id": "8c057cdc",
   "metadata": {},
   "outputs": [
    {
     "data": {
      "text/plain": [
       "10"
      ]
     },
     "execution_count": 29,
     "metadata": {},
     "output_type": "execute_result"
    }
   ],
   "source": [
    "### now using augmented assignment\n",
    "some_value2 = 5\n",
    "some_value2 +=5\n",
    "some_value2"
   ]
  },
  {
   "cell_type": "markdown",
   "id": "3d450223",
   "metadata": {},
   "source": [
    "### String"
   ]
  },
  {
   "cell_type": "code",
   "execution_count": 30,
   "id": "768f5ce4",
   "metadata": {},
   "outputs": [
    {
     "data": {
      "text/plain": [
       "'Hello'"
      ]
     },
     "execution_count": 30,
     "metadata": {},
     "output_type": "execute_result"
    }
   ],
   "source": [
    "\"Hello\""
   ]
  },
  {
   "cell_type": "code",
   "execution_count": 31,
   "id": "1daf4296",
   "metadata": {},
   "outputs": [
    {
     "data": {
      "text/plain": [
       "str"
      ]
     },
     "execution_count": 31,
     "metadata": {},
     "output_type": "execute_result"
    }
   ],
   "source": [
    "type(\"Hello\")"
   ]
  },
  {
   "cell_type": "markdown",
   "id": "b722a304",
   "metadata": {},
   "source": [
    "**Long String**"
   ]
  },
  {
   "cell_type": "code",
   "execution_count": 32,
   "id": "979418af",
   "metadata": {},
   "outputs": [
    {
     "data": {
      "text/plain": [
       "'Lorem ipsum dolor sit amet, \\nconsectetur adipiscing\\nelit, sed do eiusmod\\ntempor incididunt ut'"
      ]
     },
     "execution_count": 32,
     "metadata": {},
     "output_type": "execute_result"
    }
   ],
   "source": [
    "paragraph = '''Lorem ipsum dolor sit amet, \n",
    "consectetur adipiscing\n",
    "elit, sed do eiusmod\n",
    "tempor incididunt ut'''\n",
    "paragraph"
   ]
  },
  {
   "cell_type": "markdown",
   "id": "634b4441",
   "metadata": {},
   "source": [
    "**String Concatenation**"
   ]
  },
  {
   "cell_type": "code",
   "execution_count": 33,
   "id": "fc2845bb",
   "metadata": {
    "run_control": {
     "marked": false
    }
   },
   "outputs": [
    {
     "data": {
      "text/plain": [
       "'Tansen tansen'"
      ]
     },
     "execution_count": 33,
     "metadata": {},
     "output_type": "execute_result"
    }
   ],
   "source": [
    "#Concatenation required similar type data\n",
    "name = \"tansen\"\n",
    "full_name = \"Tansen \"+name\n",
    "full_name"
   ]
  },
  {
   "cell_type": "markdown",
   "id": "ff3c62a3",
   "metadata": {},
   "source": [
    "**Type Conversion**"
   ]
  },
  {
   "cell_type": "code",
   "execution_count": 34,
   "id": "4bafa2ef",
   "metadata": {},
   "outputs": [
    {
     "data": {
      "text/plain": [
       "str"
      ]
     },
     "execution_count": 34,
     "metadata": {},
     "output_type": "execute_result"
    }
   ],
   "source": [
    "value = \"10\"\n",
    "type(value)"
   ]
  },
  {
   "cell_type": "code",
   "execution_count": 35,
   "id": "e5651657",
   "metadata": {},
   "outputs": [
    {
     "data": {
      "text/plain": [
       "int"
      ]
     },
     "execution_count": 35,
     "metadata": {},
     "output_type": "execute_result"
    }
   ],
   "source": [
    "value = \"10\"\n",
    "type(int(value))"
   ]
  },
  {
   "cell_type": "markdown",
   "id": "f52d8e11",
   "metadata": {},
   "source": [
    "**Escape Sequence**"
   ]
  },
  {
   "cell_type": "code",
   "execution_count": 36,
   "id": "c51e23a9",
   "metadata": {},
   "outputs": [
    {
     "data": {
      "text/plain": [
       "\"It's sunny\""
      ]
     },
     "execution_count": 36,
     "metadata": {},
     "output_type": "execute_result"
    }
   ],
   "source": [
    "weather = \"It's sunny\"\n",
    "weather"
   ]
  },
  {
   "cell_type": "code",
   "execution_count": 37,
   "id": "4926c5a0",
   "metadata": {},
   "outputs": [
    {
     "name": "stdout",
     "output_type": "stream",
     "text": [
      "It's \"kind of\" sunny\n"
     ]
    }
   ],
   "source": [
    "weather = \"It\\'s \\\"kind of\\\" sunny\"\n",
    "print(weather)"
   ]
  },
  {
   "cell_type": "markdown",
   "id": "d7f2540b",
   "metadata": {},
   "source": [
    "**Exercise Password Checker**"
   ]
  },
  {
   "cell_type": "code",
   "execution_count": 44,
   "id": "893819ea",
   "metadata": {},
   "outputs": [
    {
     "name": "stdout",
     "output_type": "stream",
     "text": [
      "your password is ****** and the length of password is 6\n"
     ]
    }
   ],
   "source": [
    "user_name=\"Tansen\"\n",
    "password=\"123890\"\n",
    "pass_len=len(password)\n",
    "pass_hash = pass_len*\"*\"\n",
    "print(f\"your password is {pass_hash} and the length of password is {pass_len}\")"
   ]
  }
 ],
 "metadata": {
  "kernelspec": {
   "display_name": "Python 3 (ipykernel)",
   "language": "python",
   "name": "python3"
  },
  "language_info": {
   "codemirror_mode": {
    "name": "ipython",
    "version": 3
   },
   "file_extension": ".py",
   "mimetype": "text/x-python",
   "name": "python",
   "nbconvert_exporter": "python",
   "pygments_lexer": "ipython3",
   "version": "3.10.5"
  }
 },
 "nbformat": 4,
 "nbformat_minor": 5
}
