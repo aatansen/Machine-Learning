{
 "cells": [
  {
   "cell_type": "markdown",
   "id": "0741e6e7",
   "metadata": {},
   "source": [
    "<center><h1>Assignment-01</h1></center>\n",
    "<center><h3>Name: Md. Alahi Almin Tansen</h3></center>\n",
    "<center><h3>ID: 190321028</h3></center>\n",
    "<center><h3>Course Name: Industrial and Operational Management</h3></center>\n",
    "<center><h3>Course Code: MGT-201</h3></center>\n",
    "<center><h3>Program: B.Sc. in CSE (Regular)</h3></center>\n",
    "<center><h3>Section: A</h3></center>\n",
    "<center><h3>Semester: 11th</h3></center>\n",
    "<center><h3>Submission Date: 24-05-2023</h3></center>"
   ]
  },
  {
   "cell_type": "markdown",
   "id": "f117fa79",
   "metadata": {},
   "source": [
    "### Importing necessary library"
   ]
  },
  {
   "cell_type": "code",
   "execution_count": 1,
   "id": "1197a713",
   "metadata": {},
   "outputs": [],
   "source": [
    "import pandas as pd"
   ]
  },
  {
   "cell_type": "markdown",
   "id": "d6d107d1",
   "metadata": {},
   "source": [
    "### Read the data from the CSV file"
   ]
  },
  {
   "cell_type": "code",
   "execution_count": 2,
   "id": "1a6458d3",
   "metadata": {},
   "outputs": [],
   "source": [
    "data = pd.read_csv('forecast-data.csv')"
   ]
  },
  {
   "cell_type": "code",
   "execution_count": 3,
   "id": "6e18261e",
   "metadata": {
    "scrolled": false
   },
   "outputs": [
    {
     "data": {
      "text/html": [
       "<div>\n",
       "<style scoped>\n",
       "    .dataframe tbody tr th:only-of-type {\n",
       "        vertical-align: middle;\n",
       "    }\n",
       "\n",
       "    .dataframe tbody tr th {\n",
       "        vertical-align: top;\n",
       "    }\n",
       "\n",
       "    .dataframe thead th {\n",
       "        text-align: right;\n",
       "    }\n",
       "</style>\n",
       "<table border=\"1\" class=\"dataframe\">\n",
       "  <thead>\n",
       "    <tr style=\"text-align: right;\">\n",
       "      <th></th>\n",
       "      <th>Month</th>\n",
       "      <th>Demand</th>\n",
       "      <th>Forecast</th>\n",
       "    </tr>\n",
       "  </thead>\n",
       "  <tbody>\n",
       "    <tr>\n",
       "      <th>0</th>\n",
       "      <td>May</td>\n",
       "      <td>100</td>\n",
       "      <td>100.0</td>\n",
       "    </tr>\n",
       "    <tr>\n",
       "      <th>1</th>\n",
       "      <td>June</td>\n",
       "      <td>80</td>\n",
       "      <td>NaN</td>\n",
       "    </tr>\n",
       "    <tr>\n",
       "      <th>2</th>\n",
       "      <td>July</td>\n",
       "      <td>110</td>\n",
       "      <td>NaN</td>\n",
       "    </tr>\n",
       "    <tr>\n",
       "      <th>3</th>\n",
       "      <td>August</td>\n",
       "      <td>115</td>\n",
       "      <td>NaN</td>\n",
       "    </tr>\n",
       "    <tr>\n",
       "      <th>4</th>\n",
       "      <td>September</td>\n",
       "      <td>105</td>\n",
       "      <td>NaN</td>\n",
       "    </tr>\n",
       "    <tr>\n",
       "      <th>5</th>\n",
       "      <td>October</td>\n",
       "      <td>110</td>\n",
       "      <td>NaN</td>\n",
       "    </tr>\n",
       "    <tr>\n",
       "      <th>6</th>\n",
       "      <td>November</td>\n",
       "      <td>125</td>\n",
       "      <td>NaN</td>\n",
       "    </tr>\n",
       "    <tr>\n",
       "      <th>7</th>\n",
       "      <td>December</td>\n",
       "      <td>120</td>\n",
       "      <td>NaN</td>\n",
       "    </tr>\n",
       "  </tbody>\n",
       "</table>\n",
       "</div>"
      ],
      "text/plain": [
       "       Month  Demand  Forecast\n",
       "0        May     100     100.0\n",
       "1       June      80       NaN\n",
       "2       July     110       NaN\n",
       "3     August     115       NaN\n",
       "4  September     105       NaN\n",
       "5    October     110       NaN\n",
       "6   November     125       NaN\n",
       "7   December     120       NaN"
      ]
     },
     "execution_count": 3,
     "metadata": {},
     "output_type": "execute_result"
    }
   ],
   "source": [
    "data"
   ]
  },
  {
   "cell_type": "markdown",
   "id": "d7133ea6",
   "metadata": {},
   "source": [
    "### Update the forecast for each period using the formula\n",
    "**Formula:** *Last period's forecast + α (Last period's actual demand - Last period's forecast) ; where α = 0.1*"
   ]
  },
  {
   "cell_type": "code",
   "execution_count": 4,
   "id": "92a905bf",
   "metadata": {},
   "outputs": [],
   "source": [
    "for i in range(1, len(data)):\n",
    "    previous_forecast = data.loc[i-1, 'Forecast']\n",
    "    previous_demand = data.loc[i-1, 'Demand']\n",
    "    current_forecast = previous_forecast + 0.1 * (previous_demand - previous_forecast)\n",
    "    data.loc[i, 'Forecast'] = current_forecast"
   ]
  },
  {
   "cell_type": "markdown",
   "id": "fcc6d05b",
   "metadata": {},
   "source": [
    "### Save the updated forecasts back to the CSV file"
   ]
  },
  {
   "cell_type": "code",
   "execution_count": 5,
   "id": "891e9027",
   "metadata": {},
   "outputs": [],
   "source": [
    "data.to_csv('forecast-data.csv', index=False)"
   ]
  },
  {
   "cell_type": "markdown",
   "id": "f5e1335e",
   "metadata": {},
   "source": [
    "### Updated forecasts"
   ]
  },
  {
   "cell_type": "code",
   "execution_count": 6,
   "id": "4ed5075a",
   "metadata": {},
   "outputs": [
    {
     "data": {
      "text/html": [
       "<div>\n",
       "<style scoped>\n",
       "    .dataframe tbody tr th:only-of-type {\n",
       "        vertical-align: middle;\n",
       "    }\n",
       "\n",
       "    .dataframe tbody tr th {\n",
       "        vertical-align: top;\n",
       "    }\n",
       "\n",
       "    .dataframe thead th {\n",
       "        text-align: right;\n",
       "    }\n",
       "</style>\n",
       "<table border=\"1\" class=\"dataframe\">\n",
       "  <thead>\n",
       "    <tr style=\"text-align: right;\">\n",
       "      <th></th>\n",
       "      <th>Month</th>\n",
       "      <th>Demand</th>\n",
       "      <th>Forecast</th>\n",
       "    </tr>\n",
       "  </thead>\n",
       "  <tbody>\n",
       "    <tr>\n",
       "      <th>0</th>\n",
       "      <td>May</td>\n",
       "      <td>100</td>\n",
       "      <td>100.00000</td>\n",
       "    </tr>\n",
       "    <tr>\n",
       "      <th>1</th>\n",
       "      <td>June</td>\n",
       "      <td>80</td>\n",
       "      <td>100.00000</td>\n",
       "    </tr>\n",
       "    <tr>\n",
       "      <th>2</th>\n",
       "      <td>July</td>\n",
       "      <td>110</td>\n",
       "      <td>98.00000</td>\n",
       "    </tr>\n",
       "    <tr>\n",
       "      <th>3</th>\n",
       "      <td>August</td>\n",
       "      <td>115</td>\n",
       "      <td>99.20000</td>\n",
       "    </tr>\n",
       "    <tr>\n",
       "      <th>4</th>\n",
       "      <td>September</td>\n",
       "      <td>105</td>\n",
       "      <td>100.78000</td>\n",
       "    </tr>\n",
       "    <tr>\n",
       "      <th>5</th>\n",
       "      <td>October</td>\n",
       "      <td>110</td>\n",
       "      <td>101.20200</td>\n",
       "    </tr>\n",
       "    <tr>\n",
       "      <th>6</th>\n",
       "      <td>November</td>\n",
       "      <td>125</td>\n",
       "      <td>102.08180</td>\n",
       "    </tr>\n",
       "    <tr>\n",
       "      <th>7</th>\n",
       "      <td>December</td>\n",
       "      <td>120</td>\n",
       "      <td>104.37362</td>\n",
       "    </tr>\n",
       "  </tbody>\n",
       "</table>\n",
       "</div>"
      ],
      "text/plain": [
       "       Month  Demand   Forecast\n",
       "0        May     100  100.00000\n",
       "1       June      80  100.00000\n",
       "2       July     110   98.00000\n",
       "3     August     115   99.20000\n",
       "4  September     105  100.78000\n",
       "5    October     110  101.20200\n",
       "6   November     125  102.08180\n",
       "7   December     120  104.37362"
      ]
     },
     "execution_count": 6,
     "metadata": {},
     "output_type": "execute_result"
    }
   ],
   "source": [
    "data"
   ]
  }
 ],
 "metadata": {
  "kernelspec": {
   "display_name": "Python 3 (ipykernel)",
   "language": "python",
   "name": "python3"
  },
  "language_info": {
   "codemirror_mode": {
    "name": "ipython",
    "version": 3
   },
   "file_extension": ".py",
   "mimetype": "text/x-python",
   "name": "python",
   "nbconvert_exporter": "python",
   "pygments_lexer": "ipython3",
   "version": "3.10.9"
  }
 },
 "nbformat": 4,
 "nbformat_minor": 5
}
